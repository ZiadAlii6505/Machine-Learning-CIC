{
  "nbformat": 4,
  "nbformat_minor": 0,
  "metadata": {
    "colab": {
      "name": "Assignment_5.ipynb",
      "provenance": []
    },
    "kernelspec": {
      "name": "python3",
      "display_name": "Python 3"
    },
    "language_info": {
      "name": "python"
    }
  },
  "cells": [
    {
      "cell_type": "markdown",
      "metadata": {
        "id": "vmlIHbPaiC_0"
      },
      "source": [
        "### Numpy Assignment"
      ]
    },
    {
      "cell_type": "markdown",
      "metadata": {
        "id": "R2-PpfJUtJZ2"
      },
      "source": [
        "1.  Write a NumPy program to create an array of 10 zeros,10 ones, 10 fives.<br>\n",
        "\n",
        "\n",
        "SOL:  https://www.w3resource.com/python-exercises/numpy/basic/numpy-basic-exercise-13.php\n"
      ]
    },
    {
      "cell_type": "code",
      "metadata": {
        "id": "vXPoGG1Vht0J",
        "outputId": "baa78533-d3e2-410a-d929-06a0ac8068f4",
        "colab": {
          "base_uri": "https://localhost:8080/"
        }
      },
      "source": [
        "import numpy as np\n",
        "array=np.zeros(10)\n",
        "print(\"An array of 10 zeros:\")\n",
        "print(array)\n",
        "array=np.ones(10)\n",
        "print(\"An array of 10 ones:\")\n",
        "print(array)\n",
        "array=np.ones(10)*5\n",
        "print(\"An array of 10 fives:\")\n",
        "print(array)"
      ],
      "execution_count": 2,
      "outputs": [
        {
          "output_type": "stream",
          "text": [
            "An array of 10 zeros:\n",
            "[0. 0. 0. 0. 0. 0. 0. 0. 0. 0.]\n",
            "An array of 10 ones:\n",
            "[1. 1. 1. 1. 1. 1. 1. 1. 1. 1.]\n",
            "An array of 10 fives:\n",
            "[5. 5. 5. 5. 5. 5. 5. 5. 5. 5.]\n"
          ],
          "name": "stdout"
        }
      ]
    },
    {
      "cell_type": "markdown",
      "metadata": {
        "id": "dQqdKgHqtqHu"
      },
      "source": [
        "2.  Write a NumPy program to create a 3x4 matrix filled with values from 10 to 21. <br>\n",
        "SOL: https://www.w3resource.com/python-exercises/numpy/basic/numpy-basic-exercise-25.php"
      ]
    },
    {
      "cell_type": "code",
      "metadata": {
        "id": "2PPwF0Hzt03m",
        "outputId": "db16c529-6461-4928-8e78-43d0cb53ffdb",
        "colab": {
          "base_uri": "https://localhost:8080/"
        }
      },
      "source": [
        "import numpy as np\n",
        "m= np.arange(10,22).reshape((3, 4))\n",
        "print(m)"
      ],
      "execution_count": 3,
      "outputs": [
        {
          "output_type": "stream",
          "text": [
            "[[10 11 12 13]\n",
            " [14 15 16 17]\n",
            " [18 19 20 21]]\n"
          ],
          "name": "stdout"
        }
      ]
    },
    {
      "cell_type": "markdown",
      "metadata": {
        "id": "AyPf52e3t1ZJ"
      },
      "source": [
        "3.  Write a NumPy program to check whether two arrays are equal (element wise) or not.<br>\n",
        "\n",
        "SOL: https://www.w3resource.com/python-exercises/numpy/basic/numpy-basic-exercise-44.php"
      ]
    },
    {
      "cell_type": "code",
      "metadata": {
        "id": "UnG4dTzht-7b",
        "outputId": "2f571079-b0ee-446c-b273-d1df51d0393a",
        "colab": {
          "base_uri": "https://localhost:8080/"
        }
      },
      "source": [
        "import numpy as np\n",
        "nums1 = np.array([0.5, 1.5, 0.2])\n",
        "nums2 = np.array([0.4999999999, 1.500000000, 0.2])\n",
        "np.set_printoptions(precision=15)\n",
        "print(\"Original arrays:\")\n",
        "print(nums1)\n",
        "print(nums2)\n",
        "print(\"\\nTest said two arrays are equal (element wise) or not:?\")\n",
        "print(nums1 == nums2)\n",
        "nums1 = np.array([0.5, 1.5, 0.23])\n",
        "nums2 = np.array([0.4999999999, 1.5000000001, 0.23])\n",
        "print(\"\\nOriginal arrays:\")\n",
        "np.set_printoptions(precision=15)\n",
        "print(nums1)\n",
        "print(nums2)\n",
        "print(\"\\nTest said two arrays are equal (element wise) or not:?\")\n",
        "print(np.equal(nums1, nums2))"
      ],
      "execution_count": 4,
      "outputs": [
        {
          "output_type": "stream",
          "text": [
            "Original arrays:\n",
            "[0.5 1.5 0.2]\n",
            "[0.4999999999 1.5          0.2         ]\n",
            "\n",
            "Test said two arrays are equal (element wise) or not:?\n",
            "[False  True  True]\n",
            "\n",
            "Original arrays:\n",
            "[0.5  1.5  0.23]\n",
            "[0.4999999999 1.5000000001 0.23        ]\n",
            "\n",
            "Test said two arrays are equal (element wise) or not:?\n",
            "[False False  True]\n"
          ],
          "name": "stdout"
        }
      ]
    },
    {
      "cell_type": "markdown",
      "metadata": {
        "id": "L3rb3r1kuCvf"
      },
      "source": [
        "4.  Write a NumPy program to swap rows and columns of a given array in reverse order. <br>\n",
        "\n",
        "SOL: https://www.w3resource.com/python-exercises/numpy/basic/numpy-basic-exercise-58.php"
      ]
    },
    {
      "cell_type": "code",
      "metadata": {
        "id": "FFcrvrRhuMek",
        "outputId": "ad812912-876a-41f1-f9b8-c8708902bb84",
        "colab": {
          "base_uri": "https://localhost:8080/"
        }
      },
      "source": [
        "import numpy as np\n",
        "nums = np.array([[[1, 2, 3, 4],\n",
        "               [0, 1, 3, 4],\n",
        "               [90, 91, 93, 94],\n",
        "               [5, 0, 3, 2]]])\n",
        "print(\"Original array:\")\n",
        "print(nums)\n",
        "print(\"\\nSwap rows and columns of the said array in reverse order:\")\n",
        "new_nums = print(nums[::-1, ::-1])\n",
        "print(new_nums)\n"
      ],
      "execution_count": 5,
      "outputs": [
        {
          "output_type": "stream",
          "text": [
            "Original array:\n",
            "[[[ 1  2  3  4]\n",
            "  [ 0  1  3  4]\n",
            "  [90 91 93 94]\n",
            "  [ 5  0  3  2]]]\n",
            "\n",
            "Swap rows and columns of the said array in reverse order:\n",
            "[[[ 5  0  3  2]\n",
            "  [90 91 93 94]\n",
            "  [ 0  1  3  4]\n",
            "  [ 1  2  3  4]]]\n",
            "None\n"
          ],
          "name": "stdout"
        }
      ]
    },
    {
      "cell_type": "markdown",
      "metadata": {
        "id": "rK3sUns9uM6Y"
      },
      "source": [
        "5. Write a NumPy program to create a null vector of size 10 and update sixth value to 11.<br>\n",
        "[ 0. 0. 0. 0. 0. 0. 0. 0. 0. 0.]<br>\n",
        "Update sixth value to 11<br>\n",
        "[ 0. 0. 0. 0. 0. 0. 11. 0. 0. 0.]<br>\n",
        "\n",
        "SOL: https://www.w3resource.com/python-exercises/numpy/python-numpy-exercise-4.php"
      ]
    },
    {
      "cell_type": "code",
      "metadata": {
        "id": "q9waGEm4uZ5t",
        "outputId": "1bdac1bd-bf6f-44db-bfba-cce0f5af5316",
        "colab": {
          "base_uri": "https://localhost:8080/"
        }
      },
      "source": [
        "import numpy as np\n",
        "x = np.zeros(10)\n",
        "print(x)\n",
        "print(\"Update sixth value to 11\")\n",
        "x[6] = 11\n",
        "print(x)"
      ],
      "execution_count": 7,
      "outputs": [
        {
          "output_type": "stream",
          "text": [
            "[0. 0. 0. 0. 0. 0. 0. 0. 0. 0.]\n",
            "Update sixth value to 11\n",
            "[ 0.  0.  0.  0.  0.  0. 11.  0.  0.  0.]\n"
          ],
          "name": "stdout"
        }
      ]
    },
    {
      "cell_type": "markdown",
      "metadata": {
        "id": "zgUhxxyauaYo"
      },
      "source": [
        "6. Write a NumPy program to convert a list and tuple into arrays. <br>\n",
        "List to array:<br>\n",
        "[1 2 3 4 5 6 7 8]<br>\n",
        "Tuple to array:<br>\n",
        "[[8 4 6]<br>\n",
        "[1 2 3]]<br>\n",
        "\n",
        "SOL: https://www.w3resource.com/python-exercises/numpy/python-numpy-exercise-11.php"
      ]
    },
    {
      "cell_type": "code",
      "metadata": {
        "id": "_MhuzDTMuq49",
        "outputId": "3b348e88-3014-4f77-87b8-849dc0af418d",
        "colab": {
          "base_uri": "https://localhost:8080/"
        }
      },
      "source": [
        "import numpy as np\n",
        "my_list = [1, 2, 3, 4, 5, 6, 7, 8]\n",
        "print(\"List to array: \")\n",
        "print(np.asarray(my_list))\n",
        "my_tuple = ([8, 4, 6], [1, 2, 3])\n",
        "print(\"Tuple to array: \")\n",
        "print(np.asarray(my_tuple))"
      ],
      "execution_count": 8,
      "outputs": [
        {
          "output_type": "stream",
          "text": [
            "List to array: \n",
            "[1 2 3 4 5 6 7 8]\n",
            "Tuple to array: \n",
            "[[8 4 6]\n",
            " [1 2 3]]\n"
          ],
          "name": "stdout"
        }
      ]
    },
    {
      "cell_type": "markdown",
      "metadata": {
        "id": "d4r8Pd7AurdY"
      },
      "source": [
        "7.  Write a NumPy program to change the dimension of an array. <br>\n",
        "Expected Output:<br>\n",
        "6 rows and 0 columns<br>\n",
        "(6,)<br>\n",
        "(3, 3) -> 3 rows and 3 columns<br>\n",
        "[[1 2 3]<br>\n",
        "[4 5 6]<br>\n",
        "[7 8 9]]<br>\n",
        "Change array shape to (3, 3) -> 3 rows and 3 columns<br>\n",
        "[[1 2 3]<br>\n",
        "[4 5 6]<br>\n",
        "[7 8 9]]<br>\n",
        "\n",
        "SOL: https://www.w3resource.com/python-exercises/numpy/python-numpy-exercise-35.php"
      ]
    },
    {
      "cell_type": "code",
      "metadata": {
        "id": "mP2STm_3vbxS",
        "outputId": "4880bffd-494c-410d-87b5-eafc71cb6209",
        "colab": {
          "base_uri": "https://localhost:8080/"
        }
      },
      "source": [
        "import numpy as np\n",
        "x = np.array([1, 2, 3, 4, 5, 6])\n",
        "print(\"6 rows and 0 columns\")\n",
        "print(x.shape)\n",
        "\n",
        "y = np.array([[1, 2, 3],[4, 5, 6],[7,8,9]])\n",
        "print(\"(3, 3) -> 3 rows and 3 columns \")\n",
        "print(y)\n",
        "\n",
        "x = np.array([1,2,3,4,5,6,7,8,9])\n",
        "print(\"Change array shape to (3, 3) -> 3 rows and 3 columns \")\n",
        "x.shape = (3, 3)\n",
        "print(x)"
      ],
      "execution_count": 9,
      "outputs": [
        {
          "output_type": "stream",
          "text": [
            "6 rows and 0 columns\n",
            "(6,)\n",
            "(3, 3) -> 3 rows and 3 columns \n",
            "[[1 2 3]\n",
            " [4 5 6]\n",
            " [7 8 9]]\n",
            "Change array shape to (3, 3) -> 3 rows and 3 columns \n",
            "[[1 2 3]\n",
            " [4 5 6]\n",
            " [7 8 9]]\n"
          ],
          "name": "stdout"
        }
      ]
    },
    {
      "cell_type": "markdown",
      "metadata": {
        "id": "B_ejqDDTvcNu"
      },
      "source": [
        "8. Write a NumPy program to compute the multiplication of two given matrices.<br>\n",
        "SOL: https://www.w3resource.com/python-exercises/numpy/linear-algebra/numpy-linear-algebra-exercise-1.php"
      ]
    },
    {
      "cell_type": "code",
      "metadata": {
        "id": "3Ln__JUkvvDY",
        "outputId": "b250f0bb-f17a-4987-da12-7640e49944b0",
        "colab": {
          "base_uri": "https://localhost:8080/"
        }
      },
      "source": [
        "import numpy as np\n",
        "p = [[1, 0], [0, 1]]\n",
        "q = [[1, 2], [3, 4]]\n",
        "print(\"original matrix:\")\n",
        "print(p)\n",
        "print(q)\n",
        "result1 = np.dot(p, q)\n",
        "print(\"Result of the said matrix multiplication:\")\n",
        "print(result1)"
      ],
      "execution_count": 11,
      "outputs": [
        {
          "output_type": "stream",
          "text": [
            "original matrix:\n",
            "[[1, 0], [0, 1]]\n",
            "[[1, 2], [3, 4]]\n",
            "Result of the said matrix multiplication:\n",
            "[[1 2]\n",
            " [3 4]]\n"
          ],
          "name": "stdout"
        }
      ]
    },
    {
      "cell_type": "markdown",
      "metadata": {
        "id": "RSiImYM6vvvp"
      },
      "source": [
        "9. Write a NumPy program to create a 3x3x3 array with random values. <br>\n",
        "Expected Output: <br>\n",
        "[[[ 0.48941799 0.58722213 0.43453926] <br>\n",
        "[ 0.94497547 0.81081709 0.1510409 ] <br>\n",
        "[ 0.66657127 0.29494755 0.48047144]] <br>\n",
        "[[ 0.02287253 0.95232614 0.32264936] <br>\n",
        "[ 0.67009741 0.25458304 0.16290913] <br>\n",
        "[ 0.15520198 0.86826529 0.9679322 ]]  <br>\n",
        "[[ 0.13503103 0.02042211 0.24683897]  <br>\n",
        "[ 0.97852158 0.22374748 0.10798856]  <br>\n",
        "[ 0.62032646 0.5893892 0.16958144]]] <br>\n",
        "\n",
        "SOL: https://www.w3resource.com/python-exercises/numpy/python-numpy-random-exercise-3.php"
      ]
    },
    {
      "cell_type": "code",
      "metadata": {
        "id": "eUVGJozewBmu",
        "outputId": "4103d526-fab6-40a7-d169-f7b133dcfb9a",
        "colab": {
          "base_uri": "https://localhost:8080/"
        }
      },
      "source": [
        "import numpy as np\n",
        "x = np.random.random((3,3,3))\n",
        "print(x)"
      ],
      "execution_count": 12,
      "outputs": [
        {
          "output_type": "stream",
          "text": [
            "[[[0.36847996276071  0.629224331537572 0.353356270214546]\n",
            "  [0.14458618153372  0.101536509812987 0.683098621036229]\n",
            "  [0.042552994610491 0.213001560233704 0.896152099778048]]\n",
            "\n",
            " [[0.484729356098737 0.818203483366454 0.889096908285991]\n",
            "  [0.267203671017091 0.401255626883542 0.352595905035282]\n",
            "  [0.577825545408861 0.389832222590296 0.790907678623961]]\n",
            "\n",
            " [[0.279830054283708 0.834141876169246 0.11942535138391 ]\n",
            "  [0.647436675082134 0.684968132276115 0.255804082139794]\n",
            "  [0.336116707679677 0.814425678560646 0.285017468602564]]]\n"
          ],
          "name": "stdout"
        }
      ]
    },
    {
      "cell_type": "markdown",
      "metadata": {
        "id": "qdS-JHdowCDu"
      },
      "source": [
        "10. Write a NumPy program to sort the student id with increasing height of the students from given students id and height. Print the integer indices that describes the sort order by multiple columns and the sorted data. <br>\n",
        "Expected Output: <br>\n",
        "Sorted indices: <br>\n",
        "[4 0 5 3 6 1 2] <br>\n",
        "Sorted data:  <br>\n",
        "1682 38.0  <br>\n",
        "1023 40.0  <br>\n",
        "5241 40.0  <br>\n",
        "1671 41.0  <br>\n",
        "4532 42.0  <br>\n",
        "5202 42.0  <br>\n",
        "6230 45.0  <br>\n",
        "\n",
        "SOL: https://www.w3resource.com/python-exercises/numpy/python-numpy-sorting-and-searching-exercise-4.php"
      ]
    },
    {
      "cell_type": "code",
      "metadata": {
        "id": "FKbvbEpPwfJb",
        "outputId": "88b9dec1-eb3f-4ec7-9463-737c5ddf8976",
        "colab": {
          "base_uri": "https://localhost:8080/"
        }
      },
      "source": [
        "import numpy as np\n",
        "student_id = np.array([1023, 5202, 6230, 1671, 1682, 5241, 4532])\n",
        "student_height = np.array([40., 42., 45., 41., 38., 40., 42.0])\n",
        "#Sort by studen_id then by student_height\n",
        "indices = np.lexsort((student_id, student_height))\n",
        "print(\"Sorted indices:\")\n",
        "print(indices)\n",
        "print(\"Sorted data:\")\n",
        "for n in indices:\n",
        "  print(student_id[n], student_height[n])"
      ],
      "execution_count": 13,
      "outputs": [
        {
          "output_type": "stream",
          "text": [
            "Sorted indices:\n",
            "[4 0 5 3 6 1 2]\n",
            "Sorted data:\n",
            "1682 38.0\n",
            "1023 40.0\n",
            "5241 40.0\n",
            "1671 41.0\n",
            "4532 42.0\n",
            "5202 42.0\n",
            "6230 45.0\n"
          ],
          "name": "stdout"
        }
      ]
    }
  ]
}