{
  "nbformat": 4,
  "nbformat_minor": 0,
  "metadata": {
    "colab": {
      "name": "Assignment_6.ipynb",
      "provenance": []
    },
    "kernelspec": {
      "name": "python3",
      "display_name": "Python 3"
    },
    "language_info": {
      "name": "python"
    }
  },
  "cells": [
    {
      "cell_type": "markdown",
      "metadata": {
        "id": "EueP2JY1is5P"
      },
      "source": [
        "### Pandas"
      ]
    },
    {
      "cell_type": "markdown",
      "metadata": {
        "id": "IRB6LYEoiw73"
      },
      "source": [
        "\n",
        "1. Write a Pandas program to add some data to an existing Series. <br>\n",
        "Sample Output:<br>\n",
        "Original Data Series:<br>\n",
        "0 100<br>\n",
        "1 200<br>\n",
        "2 python<br>\n",
        "3 300.12<br>\n",
        "4 400<br>\n",
        "dtype: object<br>\n",
        "Data Series after adding some data:<br>\n",
        "0 100 <br>\n",
        "1 200<br>\n",
        "2 python<br>\n",
        "3 300.12<br>\n",
        "4 400<br>\n",
        "0 500<br>\n",
        "1 php<br>\n",
        "dtype: object<br>\n",
        "\n",
        "SOL: https://www.w3resource.com/python-exercises/pandas/python-pandas-data-series-exercise-12.php"
      ]
    },
    {
      "cell_type": "code",
      "metadata": {
        "id": "KVZaYidVjrR8",
        "outputId": "4be062f6-1d17-47ef-9cd0-3edae964587b",
        "colab": {
          "base_uri": "https://localhost:8080/"
        }
      },
      "source": [
        "import pandas as pd\n",
        "s = pd.Series(['100', '200', 'python', '300.12', '400'])\n",
        "print(\"Original Data Series:\")\n",
        "print(s)\n",
        "print(\"\\nData Series after adding some data:\")\n",
        "new_s = s.append(pd.Series(['500', 'php']))\n",
        "print(new_s)"
      ],
      "execution_count": 1,
      "outputs": [
        {
          "output_type": "stream",
          "text": [
            "Original Data Series:\n",
            "0       100\n",
            "1       200\n",
            "2    python\n",
            "3    300.12\n",
            "4       400\n",
            "dtype: object\n",
            "\n",
            "Data Series after adding some data:\n",
            "0       100\n",
            "1       200\n",
            "2    python\n",
            "3    300.12\n",
            "4       400\n",
            "0       500\n",
            "1       php\n",
            "dtype: object\n"
          ],
          "name": "stdout"
        }
      ]
    },
    {
      "cell_type": "markdown",
      "metadata": {
        "id": "_kOy1f-SjNK7"
      },
      "source": [
        "2. Write a Pandas program to display most frequent value in a given series and replace everything else as 'Other' in the series. <br>\n",
        "Sample Output:<br>\n",
        "Original Series:<br>\n",
        "0 3<br>\n",
        "1 1<br>\n",
        "2 1<br>\n",
        "3 3<br>\n",
        "4 2<br>\n",
        "5 2<br>\n",
        "6 1<br>\n",
        "7 2<br>\n",
        "8 3<br>\n",
        "9 1<br>\n",
        "10 2<br>\n",
        "11 2<br>\n",
        "12 2<br>\n",
        "13 3<br>\n",
        "14 3<br>\n",
        "dtype: int64<br>\n",
        "Top 2 Freq: 2 6<br>\n",
        "3 5<br>\n",
        "1 4<br>\n",
        "dtype: int64<br>\n",
        "0 Other<br>\n",
        "1 Other<br>\n",
        "2 Other<br>\n",
        "3 Other<br>\n",
        "4 2<br>\n",
        "5 2<br>\n",
        "6 Other<br>\n",
        "7 2<br>\n",
        "8 Other<br>\n",
        "9 Other<br>\n",
        "10 2<br>\n",
        "11 2<br>\n",
        "12 2<br>\n",
        "13 Other<br>\n",
        "14 Other<br>\n",
        "dtype: object<br>\n",
        "\n",
        "SOL: https://www.w3resource.com/python-exercises/pandas/python-pandas-data-series-exercise-20.php"
      ]
    },
    {
      "cell_type": "code",
      "metadata": {
        "id": "S7vlr6vNiwNj",
        "outputId": "c61855db-c57d-4bad-ca9a-72598bb7a20a",
        "colab": {
          "base_uri": "https://localhost:8080/"
        }
      },
      "source": [
        "import pandas as pd\n",
        "import numpy as np\n",
        "np.random.RandomState(100)\n",
        "num_series = pd.Series(np.random.randint(1, 5, [15]))\n",
        "print(\"Original Series:\")\n",
        "print(num_series)\n",
        "print(\"Top 2 Freq:\", num_series.value_counts())\n",
        "result = num_series[~num_series.isin(num_series.value_counts().index[:1])] = 'Other'\n",
        "print(num_series)"
      ],
      "execution_count": 2,
      "outputs": [
        {
          "output_type": "stream",
          "text": [
            "Original Series:\n",
            "0     1\n",
            "1     4\n",
            "2     1\n",
            "3     2\n",
            "4     3\n",
            "5     2\n",
            "6     3\n",
            "7     2\n",
            "8     1\n",
            "9     3\n",
            "10    2\n",
            "11    4\n",
            "12    4\n",
            "13    2\n",
            "14    3\n",
            "dtype: int64\n",
            "Top 2 Freq: 2    5\n",
            "3    4\n",
            "4    3\n",
            "1    3\n",
            "dtype: int64\n",
            "0     Other\n",
            "1     Other\n",
            "2     Other\n",
            "3         2\n",
            "4     Other\n",
            "5         2\n",
            "6     Other\n",
            "7         2\n",
            "8     Other\n",
            "9     Other\n",
            "10        2\n",
            "11    Other\n",
            "12    Other\n",
            "13        2\n",
            "14    Other\n",
            "dtype: object\n"
          ],
          "name": "stdout"
        }
      ]
    },
    {
      "cell_type": "markdown",
      "metadata": {
        "id": "U7y6kcB7js8N"
      },
      "source": [
        "3. Write a Pandas program to select the specified columns and rows from a given data frame. <br>\n",
        "Sample Python dictionary data and list labels:<br>\n",
        "Select 'name' and 'score' columns in rows 1, 3, 5, 6 from the following data frame.<br>\n",
        "exam_data = {'name': ['Anastasia', 'Dima', 'Katherine', 'James', 'Emily',  <br> 'Michael', 'Matthew', 'Laura', 'Kevin', 'Jonas'],  <br>\n",
        "'score': [12.5, 9, 16.5, np.nan, 9, 20, 14.5, np.nan, 8, 19],  <br>\n",
        "'attempts': [1, 3, 2, 3, 2, 3, 1, 1, 2, 1],  <br>\n",
        "'qualify': ['yes', 'no', 'yes', 'no', 'no', 'yes', 'yes', 'no', 'no', 'yes']}   <br>\n",
        "labels = ['a', 'b', 'c', 'd', 'e', 'f', 'g', 'h', 'i', 'j']  <br>\n",
        "Expected Output:  <br>\n",
        "Select specific columns and rows:  <br>\n",
        "score qualify   <br>\n",
        "b 9.0 no  <br>\n",
        "d NaN no   <br>\n",
        "f 20.0 yes   <br>\n",
        "g 14.5 yes    <br>\n",
        "\n",
        "SOL: https://www.w3resource.com/python-exercises/pandas/python-pandas-data-frame-exercise-6.php"
      ]
    },
    {
      "cell_type": "code",
      "metadata": {
        "id": "7JhcOdT_iqEC",
        "outputId": "300923b0-9ec2-49af-84e8-321ca9e1cdc6",
        "colab": {
          "base_uri": "https://localhost:8080/"
        }
      },
      "source": [
        "import pandas as pd\n",
        "import numpy as np\n",
        "\n",
        "exam_data  = {'name': ['Anastasia', 'Dima', 'Katherine', 'James', 'Emily', 'Michael', 'Matthew', 'Laura', 'Kevin', 'Jonas'],\n",
        "        'score': [12.5, 9, 16.5, np.nan, 9, 20, 14.5, np.nan, 8, 19],\n",
        "        'attempts': [1, 3, 2, 3, 2, 3, 1, 1, 2, 1],\n",
        "        'qualify': ['yes', 'no', 'yes', 'no', 'no', 'yes', 'yes', 'no', 'no', 'yes']}\n",
        "labels = ['a', 'b', 'c', 'd', 'e', 'f', 'g', 'h', 'i', 'j']\n",
        "\n",
        "df = pd.DataFrame(exam_data , index=labels)\n",
        "print(\"Select specific columns and rows:\")\n",
        "print(df.iloc[[1, 3, 5, 6], [1, 3]])"
      ],
      "execution_count": 17,
      "outputs": [
        {
          "output_type": "stream",
          "text": [
            "Select specific columns and rows:\n",
            "   score qualify\n",
            "b    9.0      no\n",
            "d    NaN      no\n",
            "f   20.0     yes\n",
            "g   14.5     yes\n"
          ],
          "name": "stdout"
        }
      ]
    },
    {
      "cell_type": "markdown",
      "metadata": {
        "id": "X5EHwIjMkjZx"
      },
      "source": [
        "4. Write a Pandas program to sort the DataFrame first by 'name' in descending order, then by 'score' in ascending order. <br>\n",
        "Sample Python dictionary data and list labels:<br>\n",
        "exam_data = {'name': ['Anastasia', 'Dima', 'Katherine', 'James', 'Emily', <br>'Michael', 'Matthew', 'Laura', 'Kevin', 'Jonas'],<br>\n",
        "'score': [12.5, 9, 16.5, np.nan, 9, 20, 14.5, np.nan, 8, 19],<br>\n",
        "'attempts': [1, 3, 2, 3, 2, 3, 1, 1, 2, 1],<br>\n",
        "'qualify': ['yes', 'no', 'yes', 'no', 'no', 'yes', 'yes', 'no', 'no', 'yes']}<br>\n",
        "labels = ['a', 'b', 'c', 'd', 'e', 'f', 'g', 'h', 'i', 'j']<br>\n",
        "Values for each column will be:<br>\n",
        "name : \"Suresh\", score: 15.5, attempts: 1, qualify: \"yes\", label: \"k\"<br>\n",
        "Expected Output:<br>\n",
        "Orginal rows:<br>\n",
        "name score attempts qualify <br>\n",
        "a Anastasia 12.5 1 yes<br>\n",
        "b Dima 9.0 3 no<br>\n",
        "c Katherine 16.5 2 yes<br>\n",
        "d James NaN 3 no<br>\n",
        "e Emily 9.0 2 no<br>\n",
        "f Michael 20.0 3 yes<br>\n",
        "g Matthew 14.5 1 yes<br>\n",
        "h Laura NaN 1 no<br>\n",
        "i Kevin 8.0 2 no<br>\n",
        "j Jonas 19.0 1 yes<br>\n",
        "Sort the data frame first by 'name' in descending order, then by 'score' in ascending order:<br>\n",
        "name score attempts qualify<br>\n",
        "a Anastasia 12.5 1 yes<br>\n",
        "b Dima 9.0 3 no<br>\n",
        "c Katherine 16.5 2 yes<br>\n",
        "d James NaN 3 no<br>\n",
        "e Emily 9.0 2 no<br>\n",
        "f Michael 20.0 3 yes<br>\n",
        "g Matthew 14.5 1 yes<br>\n",
        "h Laura NaN 1 no<br>\n",
        "i Kevin 8.0 2 no<br>\n",
        "j Jonas 19.0 1 yes<br>\n",
        "\n",
        "SOL: https://www.w3resource.com/python-exercises/pandas/python-pandas-data-frame-exercise-16.php"
      ]
    },
    {
      "cell_type": "code",
      "metadata": {
        "id": "5n0ItZHhjMOi",
        "outputId": "f2d13468-90f1-4f64-de5a-43231a8e633f",
        "colab": {
          "base_uri": "https://localhost:8080/"
        }
      },
      "source": [
        "import pandas as pd\n",
        "import numpy as np\n",
        "exam_data  = {'name': ['Anastasia', 'Dima', 'Katherine', 'James', 'Emily', 'Michael', 'Matthew', 'Laura', 'Kevin', 'Jonas'],\n",
        "        'score': [12.5, 9, 16.5, np.nan, 9, 20, 14.5, np.nan, 8, 19],\n",
        "        'attempts': [1, 3, 2, 3, 2, 3, 1, 1, 2, 1],\n",
        "        'qualify': ['yes', 'no', 'yes', 'no', 'no', 'yes', 'yes', 'no', 'no', 'yes']}\n",
        "labels = ['a', 'b', 'c', 'd', 'e', 'f', 'g', 'h', 'i', 'j']\n",
        "df = pd.DataFrame(exam_data , index=labels)\n",
        "print(\"Orginal rows:\")\n",
        "print(df)\n",
        "df.sort_values(by=['name', 'score'], ascending=[False, True])\n",
        "print(\"Sort the data frame first by ‘name’ in descending order, then by ‘score’ in ascending order:\")\n",
        "print(df)"
      ],
      "execution_count": 5,
      "outputs": [
        {
          "output_type": "stream",
          "text": [
            "Orginal rows:\n",
            "        name  score  attempts qualify\n",
            "a  Anastasia   12.5         1     yes\n",
            "b       Dima    9.0         3      no\n",
            "c  Katherine   16.5         2     yes\n",
            "d      James    NaN         3      no\n",
            "e      Emily    9.0         2      no\n",
            "f    Michael   20.0         3     yes\n",
            "g    Matthew   14.5         1     yes\n",
            "h      Laura    NaN         1      no\n",
            "i      Kevin    8.0         2      no\n",
            "j      Jonas   19.0         1     yes\n",
            "Sort the data frame first by ‘name’ in descending order, then by ‘score’ in ascending order:\n",
            "        name  score  attempts qualify\n",
            "a  Anastasia   12.5         1     yes\n",
            "b       Dima    9.0         3      no\n",
            "c  Katherine   16.5         2     yes\n",
            "d      James    NaN         3      no\n",
            "e      Emily    9.0         2      no\n",
            "f    Michael   20.0         3     yes\n",
            "g    Matthew   14.5         1     yes\n",
            "h      Laura    NaN         1      no\n",
            "i      Kevin    8.0         2      no\n",
            "j      Jonas   19.0         1     yes\n"
          ],
          "name": "stdout"
        }
      ]
    },
    {
      "cell_type": "markdown",
      "metadata": {
        "id": "_gMBpvg4lNTj"
      },
      "source": [
        "5. Write a Pandas program to display the default index and set a column as an Index in a given dataframe.<br>\n",
        "![hjnm.PNG](data:image/png;base64,iVBORw0KGgoAAAANSUhEUgAAAogAAAB8CAYAAADq1UGcAAAAAXNSR0IArs4c6QAAAARnQU1BAACxjwv8YQUAAAAJcEhZcwAADsMAAA7DAcdvqGQAAC4OSURBVHhe7V2NlewsrtxsvtA6pAmlw5hQbgiz/sMGUULCjW3srj1nz9t3xw2iJKRCks3//vgfIkAEiAARIAJEgAgQASIQIfA/okEEiAARIAJEgAgQASJABGIESBBpD0SACBABIkAEiAARIAIJAiSINAgiQASIABEgAkSACBABEkTaABEgAkSACBABIkAEiICOADOItA4iQASIABEgAkSACBABZhBpA0SACBABIkAEiAARIALMINIGiAARIAJEgAgQASJABJwIsMTsBIqPfRsC//7er//+/vtv+e/r/fdPQPDv/Rr+/vP3+23QcL33ROD35yR7/f37GfbNDzfGPe2EUhOBBQGVIM7BbwuQ3OxtbcaD7+9PRFD+e/29JUOZRJqd8e2JyhS88BqPI2IbCSzZ9zR/BwRRk6OpZU56iO1u/t/c/01Rdg0WfMQLbPzUN+iHmG2i2dazsf69/16xvoWipZ+abaN8KMJ2GvxUsC00hngG7Lk/Q96/4RiXHOxUv+lSwW0eyu1B4ivxn/WAbOucRSv2eM7k2Sw+39pPrD1LXkgQZ6cQBeslaDBItLFeD77zht82efabkRouz7wfkcmaN1/usBaHf4TxTcHm52/CrzD+9xFEZkXb7PSdoywk6PV+K3ti2fs1e2Kx9SSpt84TTp5LAIzG9QWieJ3zfk1Fy8nA5LsSAijnXvZ9/IxD3mlcKf8XZvk1fGtMZqf1On92L4LYW6y19mUreQFBxIE6NzinHfAxgYAD38URIie7Or+RtC8PHJdhO1d50MYgFm3kmnAbMZzm0DK045+/LYNIgtjGwvaMMgbOYIvaoameIEriNNUeMpI2/WOSHLACUbZCbxkbzSOJnNj7HnlBamjKkPZDjPbYxI7fZHrorex/I4LYYawt7suG8uYEEQXLtezEwOHaqrIMEjsoD77Aya6lng5KnS4M9jwEyszHkd8401F2VkWCOOojKcsCointQehwGz8uA23jwHLiUhZMAl9mdzrpVdXjCPCWvGFsKXeSHQ7zCJlRIM/WLx6y/r7HFPv4TSuCOI4jbQHZ/GZ/AeJagjjqwlW2FHs9J7BbqXgezycvCeKIAKq6nEsQsz25+jxc6s5bFzZ5kzYH6SAM3zqhIdrlYvt0+9bFsI6LRz6Pc7a8OUEUAWItdRZ6xHxL+5anjI3owDd1ylup5VcpJV9ttO00KwPi8eXlIX84/acUCMsZxLQVIMtygAyofGZzYIIUqkQSIA7mQW0Jpq68BHEiqLq849yJL5dtKuDQmdtxIAn6wdQuVZor7vgBgyAmvaK1GXDhp1b9pHPK4FrsRzUy8THQqd4E+VtLyb9TuXqulPjklcp8jm+0zTQhD1kiARAz1ONpT2M+4TtUWBnESN7ttJJmg92+NfYfeE/5ZA5k8/pE2Vny6gRR9nuQIJobY34g7+NJfigyJ+tpJsJ3Vb4Iqpqze5ITTAJHRcBxKmd9bC0vh3+xXpLxZm6FzKi0J0vakMhpWWTFqeMWEMsJA9TgSyop+fDKm46OArwgNXLNls/R2g8cJLfWXq55XieIUp6ZHCCSqNlA0Ifs9SvPGQgjyvTWBa247LvJuCYk5mMbIIgV8i627MpoXqPgw2a1D4dLnDqAJNpzb7rVdYPiaGrLtm/FyRpkp3W2+80EcU3ZChAe43QP25PRwOK0FntTD74hSDszSE8iiHEPlHfT1mtUL1chh1XOIIp9gvqmwFvBcTD36q+EB3SWsNRkoOXY5y55QZtFkn1C5A8SxIIz1g4QFrGsN5iLfuEniOFgmtmvqk/tDX6rFKll9a3fzRBqBDNkv1L5431aKe8Xk8MF6YlcF8nxgfskzTzXHFzWE/vQFlGWXy+3pj286KsM8qsU3ljj8n0neIuz5K17SeXrOn1baFqehAovqWip9Og0rRKYx7ypl2Y2Djn9K+RlciRaprBlBlGYldfp7CWIVRg2IYjIxvdmEPcSxOtP+Z97jwqCqGRT8cFhlkx/6aOEnSKT227wCyNwD6BsvNyHaN6vJ4eTdieCZX6+64S4gTOKVnXDtv2SbS8WbmIQ9uhZhOtznxAdtBzZX29s0eSq+MzNjob3VmjcfBxpyNmGASe5tNRS7n341Ah6g3cOXK/im8WfyKw6A+VE7c8gguyK7L0Dgrv1Vzrxg3nc48YyuQN9HYkIp/01YHkyiKFdQ3WE4FMoy2+qSPEnxnTob+0gGWeLssON1aKhfDamhJ30S95sVak0HQfz7RM1YC955CU53Mh/ifxlWB5oyIod4rYYfwZxrjaVSTC2V7BWZzZ1l089AtqT5HV+KJvk0K1jlJ1Ss0/ho7EY3zSFjkuZj/yosVJid+ug+GDp5BoFZDXLmH8fNNYBDK6ory+yiRqnI8sq6EWQTZ4dWbQmBBG9OTi/cFBHEEdFbqXFdV3pq9vTuKYO2hjPKaOopbPVZnJMalojkkUIO5fjZLLg5kPjMAdekAhtF+hbiOFv6lybvlFJGpYUT8iUnWIccBJrj4zbSHwQ/cAPiCP7xZlMaRf2yyTZ8g3fOj6P5PF8fH6VuVBxurKoqsaChvLyqr3rdjVnJgJEgAgchIBdYmw1sV3qazUTxyECROBMBEgQz0SbcxEBIkAEzkDAkQluI8Z5RLSNvByFCBABLwIkiF6k+BwRIAJEgAgQASJABL4EARLEL1E0l0kEiAARIAJEgAgQAS8CJIhepPgcESACRIAIEAEiQAS+BAESxC9RNJdJBIgAESACRIAIEAEvAiSIXqT4HBEgAkSACBABIkAEvgQBEsQvUTSXSQSIABEgAkSACBABLwIkiF6k+BwRIAJEgAgQASJABL4EARLEL1E0l3kxAuHr9o77My+W9OTpw20K6NYXcdMCurZA3KRw5c0GJwNXPx2/jViPGX9BBL4YgSJBDPdnPuNe0760HLAN10Lh2BdfIQau45PXDN05Ohbulqy5iu4KLcsrj+B+uZwghuu4UiJm35F7NKIlgrjNbd/W8bwPNqv+t3CV1naXsdSbcsWkHEv4EOmnZn9VvsIR311eulYtyCqeQYcpQ978asbvuCY2v04O6KireFG68vRon5OPj202eq4r7JarTEvJhkbyYoK4XuT9/vsZHAIJYluDnZ1ufqdv7JvlJePZb7IL0KN7hNuKe9JomvwLsemS/C4BTWzUf++fv/e/k2BzTzPi+Pp7xfchT/ccy39zD3jqg19FEHf5X2P/T2Pi+9w3/77Yc7TXzMCZWcG8X9PtmpOBSZ/oHubtAtz5ju34mRWXsLlyeaWd9H64PGoTZfh2Fy9uRBC7w84giA3lBQRxDhpzgLs76Thq+30yLsY02dCLI0ROVs8QLJeS37iEmQeNAWeIxSf4t/stlLfd8I1HWvb1QF5XGxqx/XmDgN546gbDfQ9B3Od/LSKE8IP2KzL51QTRW8ZG8ygENvhBj7w5Xx2JsSSsDQyy9yEcerjWf92IIAJdX4udI4MoZN4rr9GDSIK4yw+AEtB2MB4dlih7rOng5YQPNvda6ikQwL1GsGuNR/wIlJmtwHeEGL4xvXvD6qPbHGVSJsr0HErEW9tBXWZ/lGO0u/H/znY2Yvvzixy1LAfGAdYr73JgmUqS83/hgSf83TjYfA9BjK2vzsZ0ewi6j8cu6z3oqpYgjnpy2aXY67l+N3ufx/PJS4I4IuCruhwZL7KS97q/c98S/EPaurC1jCRtDrKSJGMt8COyTSK2z7w0r/mr1LKOxK4Uf86WlwTRxwYqnjJ6oQT5W0vJkcNMnfKy2QfD/51K01r/jzeYVCzl9EflGnyO7nQxJx9cn5nAJEcGwnFwBw5Zuc1CYSMJoxwzMRxtSQTe4HDVkr5HXpDNLuDlISEkiLp+rUNUqSdwVfNySP35TW0P9SDqpgEOv4rYaYDFNvh6/85l5mlC4VcVeeV0FjbWrrnT38sHTLmS4+KFZz9jwp8fjibyuJ1W0mww8CmSuOX6x+v2yRzkOw47r72dJS8Jolcj7ufyvpjkp4EgygCPCOLqBOcRdGeHX0Bwi9zRg3mpvdMmc+mckqZgLHORICZRVwRM5QWeeiexyDWON/YeLnPGWR/7ZIxIOwrwOQYayfOsgwRR26RWsNJKeYFwbQfQf9MU5fECYUQk0aPHzY+VstLhEBzb2g55lz3pymh25ANbiDLrSfOdx8aL8txhdVaJGcXR9DfQJyT9dzhZg+zUa7vbS1DlF7Va6LA0xlnykiAeoslCWXFNiQsDizOLgWxkLz8Mm14tPV5rsM1gVDOpzWZoNJASSLMG4W26zwhirt+q7EjBccZy2UTMSxDjN/Cj/w2YhcfZ2XIZmftGWj93GIv8jXxuIPult4rVv2+Z4FQlFo5aVt/6XXzIzXsCQ/YrJXMxIaiU94vJ4YL0lH3NyfGx5HClfxNBDfseEVUfQSyRe73cmr5DsckR+SFXbJW7/RzsPD7G4zNbkFkSRI82PnpGnoSw008CYOElFeRArc9OfCT+6T9OMwU9n/5htu1sguh9Kckpl03EvATRn/n1ODtbLh9BOd2cP5rQIoh2C0YJN2i/FuHUMozm70IFBL8wAg87wmbd8n49Odwywbjv99xkAs4oNiKIxa9b+H2C7YP6IYdrFr7o+9vIS4L4kQP3/Vg66WzDgBLi2pu4TJE70DYG4FvBuU/NgWAogaolknPlUWdD/XpOIraN6SBcS1BO3mCv7YFEnzlZhEjs0wyuHnll2bKsL9s5Lz2NjYJBJ9bjEMMgiErrwTpwwRanZ5TPxthZG0kwrGBfJoezvPIgDezMI69pvw7YH/CIjB8tskm7YVHssNzOYh2ORpMZs+flN9RzHJRVFPdSh7H2JHkhQVRTt95sxW5LesAPwRvMeVl4c5hz+rvQs7am6VFJGpfxes66uTSslNhdvz39IdFOIPWZ9CbG+kJ9VkF4FHDzeao+DVnI8GRZptJb+PANSSTvVhKMSzzp2/zIfvPvg+Ylom0vqL6qCpzTjaY4oc//Gr3OE/9DLSliaqFr6TsyWXDzoXGYQ3tk0T36FmLweepc2pv82OY8H/fuywJqpQHrltipfsj51nmFSMh+8XaUdhHHOAdBnM4VM0lM/it4CpIHxUj5nHyBC5Wqr4y1Z8jLq/YqDJ+PEgEiQATugYC/vPbpeuzy/6cz8PdEgAhcgQAJ4hWoc04iQASIwJEIOHoC20x/HhFtIy9HIQJEwIsACaIXKT5HBIgAESACRIAIEIEvQYAE8UsUzWUSASJABIgAESACRMCLAAmiFyk+RwSIABEgAkSACBCBL0GABPFLFM1lEgEiQASIABEgAkTAiwAJohcpPkcEiAARIAJEgAgQgS9BgATxSxTNZRIBIkAEiAARIAJEwIsACaIXKT5HBIgAESACRIAIEIEvQYAE8UsUzWUSgb4Q4PfzTtcHv414OuSckAjcGQGFIMqre/BVcHde+NWyz3crb1cEoauI0qt0pA7A9VW9Xi9Wujc4vlNSuw7qzlc8Oq6CutoWt/nxVWXHXCdFgmjpPfgI+27k4EfkHcnxDMp9yfJaxcyH1MeC0hV/wadBV2XKMqxH7Cf7yrTviF35dXLSFnqLF/b93db+aPn38rWUvWFnXaPZTl79LuZoB8+OquR8Wqrq+WPNeOZ3zsZOU14ynv0mg8l5d+Ul8C5BBkQFfGH7g8hDlrWx79C9REXTpEBPIWg3P3w8SMetFbZg/nq//36GQyQmiJV2NI0pfPg6z79lBfmY8ho9OxbMNpSZy0LsfoY1vYY15TxU/juwxfgwOUmc+7zMn2S/aa2sPsfDfjWW9ep4cSeCKHV8NXYWQWwnr6/EXMoA9bk/OpYKG1eyoSHeOskKi+35TlQcWLSN9iDyAMp6tvO+ynyxjdmkYI+8D9LxnuWrvxl1EA6PeiCq3evoeWiHFqGyYgEsY4/rWMip8nu4noTUKoRinC9UGKbn84zhOPYxWfCmim87mKOdoNaG2gp4Z4I4JrKHrH3zQ7Mf4XLGMx9nr7wkiH6d+J+UpZL4xIyc2Fo2WZwo2NxrSVort1qO2y/9MU8i+dRg9CDyIHUpszYhs/Kbwo4yxrKMlAS9MI+wvTofViCIwu5ki4R0lqtDSuSJM1hSx1spM1mX3EvA/jNZHlPtaHWAGseRxAkF6K00pdqN4WdMMlZDEKcMYZC7VCKPyWdOECf7qNsIx/jA00a1kwl/B8eLrOS97ltQ/lxbrbB/SPa31OMO/xD7l7w0X277mlR4MHYlMzlbXhdBPCaDcNpuOXkig9wIwrCWkiOylJ4Ols0+bLDfrNSfbra+T8m509IzaU8jiJvTGftOUx+HnHkeDEebSH4niaU8ZEx+rLY1RC8xSzKKSBx2vMHpy7EjHWtlbOCIcQnxqe0vCkEMh8zfuSy79jIrJAhnG8QeW+2pXD4r2pSSwUscsBZcwWFR9ivmc4dDRUoiEzIYbOvOfczOCJaQB7jec+KFL7tlZRAjWYNdS9tx+IfcZrB92zKfg51T1bNvL9p0G3ltgrg4jr7JhxfWM54zeoNEpmfFFRFEQQLKAX8jkv/OWOaOOVL5SyTwaQQxEBhlXTDLaJEeFOBF9sRRZhJ5y6l/LH55KumVLZZF0zKe7KGdD96xU0sdmPqSFswYlPt3d5hmpz8pEcRBT0mA0IidFoiD/Ui/USCIRiywg1Y5+yIzwahfMc2gDHbwHkrMSXZUZKgGjN5jOfALCGJsxHbP+nHxwp578gaTr9F5BYqj6W/0toS0RSN3ITm5ctnuCvBx2Hkd0VnylgkiyaFXX+I54aRiC11T4oIAxME8ZINQWa/k6Dwn+J0ravKz+MRXJC9PJYhac7HX8UnyFmUjUbl+L0E0y3G4TJRlEB0n3EACUAlQL6cgIuwoDTUx4jMHMTKI4iQIg4ZqA1tJP1V36RBjB3TTdGrKc0kPooJ73IOoPvKFPYgmAQtk/Zi3vFOyj+bwEUT/G/yxb0wJYnrgXZ6rja3Sti6OtXUEcb+udYJIctgoEsiTEHb6yWkIOlFrQw3iVhOCRkt0D7Otodw0+1yCOL95qfRJTU4L/R3ZzIEZxGKU95XE7RdxIvllX+ZiT7saq5WeTreJdvWgls3D+wNhXsJQf0kFHV4NkuX1PRUE0da/wydeHMivMyeHD/Xq7MNF4IyipbtCJtvtHxwYLGNVE66TsNOgP0teTBBJDj/cEunPpaPLNozaf7M5arufzChtN13R/sFmw37hT12sw/o39n5JTvolcCSYPC0OccAmz6blzlL2Z82Hg0Yl5kqCGLIFuzKIv6u3n0rb+Ys34JMoRdU9yHbAZ1zC0rMAgYiXRY4yYg6CsisWWME+UpiTIKIWhVTtjjKfcvA4aedfOo2N34nxQrHD8iHSJojhm5gld2XjEPsfbzb1ROw0K0L+XrW4/fICgriVHvLUrNUXdeme6GNy+VbV2ERuvnmJDTMtseFvmFkf2+4DlDxAwO9qri9aiFLqnfuH0ElTCVyl3h3Zn/V6/049PKtzPI0gDrqUehqEkG+vVmUQ41P8uF/SD4KKnsh0P0lcMpLZ3QawBVJL62IfyOc8vVbZ7MJfpSU9ZyywiGj4vmb8Qk3435sBD5l144WboqzzyuzSpo3//Z4AerLe9kXfomy0cGS/mMTJVpX8LWbz3QcUM4x9ovkIdT+BmG62UjTCsjTMGfLaL6mcsFBOQQSIQO3HT4kYESiGj4lwnRHI7FIwNUUEiMAdESBBvKPWKPPzEKgqGTxv+VxRYwRO65F6Ukm/sQ44HBG4OQIkiDdXIMW/NwJbSczb/3Lv9VJ6IkAEiAARuAcCJIj30BOlJAJEgAgQASJABIjAaQiQIJ4GNSciAkSACBABIkAEiMA9ECBBvIeeKCURIAJEgAgQASJABE5DgATxNKg5EREgAkSACBABIkAE7oEACeI99EQpiQARIAJEgAgQASJwGgIkiKdBzYmIABEgAkSACBABInAPBEgQ76EnSvnVCDiunboAH3TF3gVicEovAvw2ohcpPkcEiMCAACSI+fVV/EZba2uRGKMbD9KrdDQdhOuKOr4GsXT/avyB6LtdtYeuVZRXxTUxnJMIonJlmnYP+OcEseIO3yY43mUQeXVavvfhdXzFKykVrKUNA0fk80Mbttk90RHs2R3isUocsshrHtFVbBk2d76q02myuT2geCCutrsUl772fslmNxX0E2t98o6SB5n3cThXBlELEE7b5WMCgezO3YUYpVfQjveSbpsc3dMbLiJ/v1/Js/0BvgQ8LfhkjuomtzOUiG9TJfRJED9fYl9B4vP1tBlBXl2H/G/19XaTreL73DeStQSTaJ9md2qbN/7MOs22evBx71EO8PdsLwGfkc2d74v8DvB8TW201PcoNg4LvpeRxL72vkW4eou1lrzBOmc7eA177kCCONyAvnuCvrfRFdLhYJ9saEg8hMMcneXihe9A4LGMGvEhQUwtkwTxip3azZzAH9QSRPR8TiLGhMPgV0IwUfz++DuUuZvwgmXs0X4XcqocquB6ElKrEIpxvpXk4INoLVbd6P0TQYQeoP897YCLFnIjgthhrHURxGADH/A3VwYROpJPjPfpvwWlx/VEjZS1llYXJwqc7FqSBie+OxDE+ZAhMgdqNuJhBFHag6rDMWsc/htnewJB/J2yM+szeZpmCMTxGJWnRm+JWbQC5InhoD9RKl0fFKWuRGaR5craDuK/b0EmKbFdlhU5yLF9TBBHvKUtoAC96WVSVckeUE/MxA8L5HGEp4YgTuWxIHepRB7ZxGIvgcCiystBWupo2Jwo5yR525sq2f9gRXqZ37v3txiQtGNJu9vhW+P1wlaNxR8hE7861vrljZIKRxDEtEeu4/62D4z4mJ8a5EaQv5C6/o3IUno62EoBv0op+Wqj9eGoOC0YzO9FEDdSN5OzxOFqwT1et/nygAjca6CNg/6Ib7pPV9vyKWgN3nI98/+v9zRpBHH8XXowkqVFI4sADhDpmlCQOynb6sW0wXNqidl5GMDZBrHH1jaXGD+QkQsBGe1bTyDSslaqrjebyXEI+pfkNyIhTzssFOxJPySJfbbo4PVeDpwK2d9ruq7s1p+VQYx0GOSTtuPwrbnNYP/gk3l0kX20c1nyJn/37EtF2a4MYmgMbmxHe+2v898ZPS9J2jciE4ggit5EzTh7MVpLMamcJRJ4L4JY2hd66SwKaqAHNcUSOTUHRibxFBrzZhDXn2kyeOUtBQmtbzWeEz1jBR7LSjv7u8iIadLN5ABljDU8RJZ3JVJSdyLjMzz3nvqa3kOIT/9jBa3p6UJZM01KDMQQ9CumGZRhve+oJD6On+ClEcjOdHyAOGnmVGbaw2FP22OfCeTL2lr7FMXR9De2b8X+Cdmpy3Yn870BQZR+/HCCOO27wSmQITp3jnCqMW5rShyV0uISc+6ENSPuxWhNcOLgUCQvDvJjTnbCA44eHr0kIIJ5sWzrI1wywOqZPwWbDgliXv4yMlxmZuIEu2g1hZMcztMpmVN1n23Z19St23sPl5Ht31kEMYMt6UFUQAU9iKnNbBUYSWhbqanPcQCZktWNA/dK6otqDi4BTbsSYPtWEYfjjLs44DyHIALifTxBtNh+n1ukD6nkSQgbfkLAIfHQdXAbghg5pPKBwxlsrlawlyDWHqyyjKKDIKJ+zgdkEDWCOEP64AxiFTnUM3Olfaa/pFJoKdKCjdfWHHtmpQhmUkL6RH/G6GrXcfz8KRYwRnxAHGrkxxlFi1M4CWLRt/rjyGMIouzJTNpQtFYhXZuuErMvZVxjMt/1rHTSGZ5mr1U5tX0fgrisY3rtHnzqYjUL/8a+1JI8wc4sH6MVyPXvIYjh9FzRP3x6BnGpTCh9YsjvpKTmoQSxlhwGoixxtAjA2osWcmtGUM6eD7ZrBfvIxj17ZsyHTiXzku2izCD6N1SqvNRrnDJ5jp/E4ZjyMlycYofll19tguhpfbPtaJFYfWEyXVE3sdYp7yS95QcKFgkJov4G0im2fe9JEIM331rFb5umesDfMEMvFNQmrE4FXCuxj0Jkb6wub+T22miundakAtC6ojWh0nCaOXMQxEAS1hPjYFO/4Nt3JWU7CaJa2hFvKaM1lF5oQSXxDJvEFp5IELfSb763Re9YlB1Ab6K6siLChuU4dqnQE4AKa9LebMevkE4Hy4ALfvs2n+uIt3RP9ZnmZABfGAQKrU/mHP4HkH/AMUmWgNGXG8LhRZnf8K1zWIm/7ABeJFw5YvqcfMGut1gr16XG/dYE0W8KfJIIEAEiQAT6Q+C8LDz70/vTPiUiAi0QcJWYW0zEMYgAESACROAkBLw9gR+Lcx4R/VhUDkAEiEAVAiSIVXDxYSJABIgAESACRIAIPB8BEsTn65grJAJEgAgQASJABIhAFQIkiFVw8WEiQASIABEgAkSACDwfARLE5+uYKyQCRIAIEAEiQASIQBUCJIhVcPFhIkAEiAARIAJEgAg8HwESxOfrmCskAkSACBABIkAEiEAVAiSIVXDxYSJABIgAESACRIAIPB8BEsTn65gr7AGBcGNFr7fCXIZR6UpAx80P4iaFrm8RugzjZWJ+G/FqDXB+InArBEyCuF61RM/bVLHyCjEEb3qVDriOT14zdGcdFe6W7Ob+S8UC5JVH8GqvywliuI4rvbIx2OF1puO7M9q+reN5H2wOuildFRdsz9afcl+yvC5SDISugSzfkRzuW38Plz/G/yldqxaeE8+gw5Qh7zD73/sVX5mGrzFt6sw7GCy/Tk67x9q3345fUsX93ccLM1xX/Pr7r3R47yzWluWVe02/XtCCtkwQlzv8XuOGsz2QNRf/viAwO93IcS3GF0MsLxnPfpPdr+i43LxrDWjyn3ipfDU+y0YUjuXf++fvnUbH6pHb/2DE8fU37uXNztC/tZ+5xYhfRRAXEvR6v/9+hruHIUEMPmN4Zryf2HTP05j4Pvdt/MWeo8HMwJkpd96vqTw5GZj0mewbOfey7+NnVlzC5srllXbS++Gyxd5AY+T4hjuJB980xR+NQB4lkRz3RgSxw1jrIYimT3CoukAQNwXaztkxEx9ZEMBEKNnQiyNETrZE1JFTuBPsUH6IRR+ruhfeMxl8D+R1taER2583COh94Jvkn0ZCUfR4T8kgLnqaOJB2aBr/fQnwzv2BfDi0X5HJryaI3jI2mkchsEHtHnlzvuok0P2Z/GcSST2M//8CZB+k+UYEEWjiat9/OUGMjYgEsXKvyjJIfMLPTiNjHBg27/DMeqoDTnYt9RTS4FcbbSVK+eOgzNyHM4NndD27kzxu9dGJg9hkBzK7Mg4oS2dKZklVwijHmLXeyMWI7c8vctR5iSLNOs5zJ2UtYJey7AUPPOp604XYPugpBDGhxbaNuQhi0H08dlnvQVe1BHHUU6kkvkog9nqu383e5/F88pIgRr5COVCd4VOzkvfqH3D5M4l/kxK3/Zy0Ocg1yVgL/JBsk4jtMy/Nb+0JpfPoVbHWJ287X6hkENMJbOf8MTV40ACGcgT5W0vJkcNMnfJWavktlgbuXmJGGZOOy8uuwOwhOTIQOnHIym3WFtpIwmhzMzEcs1Ai8AaHq3pHj7xLOQuUB9GwHhJi+6B2TtFC8ry/O/a0ww4xvgKvtc0lnRP1IOqmMWbrfD1/aYDFNvh6/879hNOEPnmlbs4gQ+fZQ3km68AWfn00Jp79jAl/fjiaiON2WknbKYDtS+KWrxXvKZ/MQT7HvjzYKDwZxJl0awkHn4CQIEpnbDtn32Tf8VTeF5OsOxBEGeARQRS9ifrGxi8g3BHvvNTuCzinr1U6p6SJGcuM9xEiwSJgKi/w1Du1Ra5xvLEfcXG8cdbHPhk75EVZ8jHEK2VizzpsH0SCiPeAVsoLeMlev3LwC4RxL9Gf8lvTQVf2wsZZ6dAfF9vaDnmXPenKaJ7uQI6dcMYY+6FTCKJ5ULBKzCiOpr+BPiHxPdgnIH/j8UGzxvqItX55t4RD8SUcxRxzggjKm7ZzPtbY7zd6oay4psRFk3CMeyAb2csP6E2rPgy2mY7UTGqzGRoNpARShRxN2xQSJAfhUvq6qhx9wXHGctl73SEvaLFYT7KAWXicnS0XCSI0bLUncMsEpyqxcNSy+tbvlvCakcP530P2KyVzMSGolPeLyWFMZBA5rvIbO71lmnlGRNVHED1v8CeZsiljFuYrlLNdsVUuvp9Y6/GZeWKqPtmSEcRSjXtUxDeexnbukeVn8iSEiUUSAAsvqSAHev0baZ8hlP46zRT0bG8w23Y2QfR+V9Epl03EvATR74w8zs6Wy0dQWlrq8WM5SllGibmEG7Rf8yUTRSbzdyhzuCEISYuwWbe8X08Ot6yRmuk98S1mnM1sRBAbvbhm+6B+yOGUx7Q+yyOc095DgfkdRD3zcbx7fMoM0klnGwaUENfexAWEXMF9GWxLXc2BYCiBmmWKlrPuGAv16zmJWBQaoz6r8K/SeYJyi6P3LFkR+sxJOMLEmU0zuDoIYijDOMmrx9mRICr2WbKDgi1Oo2V9rDYhlX7JylatFq1kDrdVSRsHduaR17TfHfv8hj/Belq0dfZnbkotJ6qPsG0xvNxpvkziIcNKG09s310lYoryZuxw6t3ck2whQWy9+VF5zXyzqtCztjaaopJ0/EHY7X/vMYTWMHw0nlJi/2jMw36Myhj5Ny7zMgjqs9II4nRM+xu/iRePU/Wdq0KGJyNfpbfwA/lLJkfZgK0kCGVWy9A12G2lyQzfKnAOM45dA6tVnNWPYGyThv6J/xkf/41IYsBP+o5MFpySMg5z3lJfoTVnY5pTsMPyFnDxkIRd2urhR2Dd1tu+EYattwqyXzyHtIs4xjkI4uQWwxdA9BcykDwoRsrnVpnRHAt+V8ZaVd7Mt/qrOdKaXQSxhy1AGYgAESACRMCLwHkldzu765WZzxEBItATAiSIPWmDshABIkAEWiDg6AlsMU32+Zk2g3IUIkAEOkCABLEDJVAEIkAEiAARIAJEgAj0hAAJYk/aoCxEgAgQASJABIgAEegAARLEDpRAEYgAESACRIAIEAEi0BMCJIg9aYOyEAEiQASIABEgAkSgAwRIEDtQAkUgAkSACBABIkAEiEBPCJAg9qQNykIEiAARIAJEgAgQgQ4QIEHsQAkUgQgQASJABIgAESACPSFAgtiTNigLETAQCF/Pd91+cNq38Pao7bwPOe+R7pG/Oc0eqNtH2g8X9XUIQII43/srr3ETV719HVRtFywxRgE/vUqndF1OuLJo/5U6bVcnRivdFxvfKaldaeS80/fQNWSD42u9jr566ViCeOaaSCIsew0+wnMt2OSvi/sEXYc4SCCv5QKOyO+H5hWVrvgr2q9DFnm1WoqN90o/C/n7/T2/Tg7Ea+lfXafMo7BQ7PGo6YxxXddSTmP0EWt98jqurjRw0Qlil0H5IutpPO3s+PM7Z+P9Ki9bz34TyTQ9+3oZ96E2XkTVcAvx0IJPZmt3IA/AwYUAd6njTQxjsLOagx3Q02FruoOOq4y83cML5q/3e7p/WyWINXY2jSlsYZ3n3yL7ElCicWff8h5u4A6PjHfflg6isw1loi3k5GdY03iXcvb37BAJbDE+TEbBunwo031PO4X1N1KmtwnfWG/Ou44PW9o9CWIvsdYkiGG//X6mQBLEz/Db8Wu8MZMNDTNuiqMLZaPMAewQ7cCfzARXkhXNSd2BPCgOLgtiB4JqDV1dUsQ2hnVnTW79/Q46ttZwxN9HHYRArgfx2vuP0fMZiZgSJBEBVHzK+DuVlEGbG9ex7H2lmgDXk5Dawn4rJTN62o9HmIs2pmPvQ/2fJuMNCWJHsbZMENv5VhLEIzaELJXEJ2bkdNfU/+JEweZeS9KJM4wCSOcEMZSyksyB6rzbGfgR6p3H1BwcCOqZPUREWTnpSVKWtiRoGRxUYvswgziudCT3IghnbSgiJbQG/GTtsSxSx1t5OyEfEjtABvKWmJo1H2chn4/ciiCO40ibQfa72c+kTsWnTHgr2csieZy2Dc4gYsIby10qkWv6/s7sYfBNmo6CXR5JELOS97pvC20ASQJh8w/J/pZ2t8M/xP4lL81vrXXpVH3EWpe8jsOB1ze5exBrqhneyZ/5nEFuhPLWUnJEltKAvDi5YYP9iixc8lzvBHEhVLHT0h3UnQmiDErDWhJSs+nzX0Q0U2deOF2regZkotpR6CXmhLQN4yIShx1vCN4Al3Bw0srYgEzgkudTCKH0iAZBTPrE9bIvzjaIPbYeVOI5Cy0HKGvn8UFaPzI4LMp+xTyTHQ4Vytq/LHuYkAezRey4ErNZ/iwesFf6OrVXTL21gXxI23H4h9xm8LotmXuLtSV5w99mvqARXh/7cr3FHBg8SaIH1LyPJ/lVkqaOSjWIIIrsUmLs0hl7nLNH/AOfSTdriQQ+iSDmgGabWxK5ki5LWR0ZFPYSRCfx2FaWE1rZQzsnj+JMZJpJUF/SghmDcv/ugSZ88tD+ID7jjYhSOdP98ysPLHJOkfEZbOwt+xIXVKwgO/MCpQcx2Ecc0EC/YppBGdb71noivzV7OCtj9rXaoSEQ62MOVuW5wxaySswojqa/0dsS0haN3IUoFRGNVHcYa02CKHuXdx6WXATRm7I+2Xt2PJ1wqrGFrilxsTnjYB5KzqisN/2b9oJEp28xrz4hCg5F8nJngpgHdVgW0FoFBqyK/WWFvrCspLSXIJonQVwmyjKIxSzGouOFBKBymF5OEXa+tmjMp2VT/I49RyqanyCGtyuz3kDVBraSPiqllTDEZWTnni0QxEwtSQ+iorRxfXuzmbexgz2CagTsWHK4ufo4e1VzcAkj2LZv+4dCOVuNrRLrPmOtSRCzPWERcmxjToJoK2uPCX/Hb+RJCGOZkILCSypTAAA9julniY45GX6ur81Iy032zmDzuUAfjOB7SSUvcRR6+qZNbaz9jAxikWGhzIySQfQQxN8tqyTJTe2LGJMylZ7ODxR94U8r/G5Vb9+8JP0llYL/0LLb3sNIBUG09a8HvSP76y40iIqpkR85hxxmFAtmMy3CYtu+bR/+OKISrk5jbTFbr74oVni5TLEsF0FE5aIKS/36R6UhZyl4tf9mc9SIaCTA3qDEPMo7G/b4SZ5Spse/sa8zLuDgFnISE51Mb8HhwE/7LCWzErEqBui89PrxZ24ygHOCGFpQdmUQR4IYETvZ61ifEbyD7Xit1g6S80iyTLyMb/mExRY3zI35sufDOqxgH63XSRDtmKOseXYyhn/x4n/f53L8riGHs3nKT+yELV/6dqfD9h2HQduOYv/jrMBZ++oMsymWjPP9aPKHGoKYpW6fU7M5XnXoxGG+eYkNM9WDkRXswWg96Gol9ogkZB9pNxuuPRO3fmYr0W3yIj3KMsegR6UsJpvyN4nRXHM5NSejS1PyiJmnRJfA4uzbEiXdsTwsy452BicncuvbiukHQfOP9kf2sP4m6l07+mPlrS1JjqeWztZ15/aA1lzTExhsWI6T4qsEUNP36Pa7tRYU2nJWHjoTP03WIlk+WmmXjg/wlTFb7lkTx/0LQvaLKQTwjeu0DoKoxQwRL5A8no/Pq7THtPf92NX8Uq4LtYpssWlfVdGVQawRms8SASJABIjA1Qicl0m1S31XY8H5iQAR2IMACeIe1PgbIkAEiEDPCHh7Aj9ew3lE9GNROQARIAJVCJAgVsHFh4kAESACRIAIEAEi8HwESBCfr2OukAgQASJABIgAESACVQiQIFbBxYeJABEgAkSACBABIvB8BP4PqZxNcfohv2MAAAAASUVORK5CYII=)\n",
        "\n",
        "\n",
        "\n",
        "SOL: https://www.w3resource.com/python-exercises/pandas/index/pandas-indexing-exercise-1.php"
      ]
    },
    {
      "cell_type": "code",
      "metadata": {
        "id": "X5NTaY6WltCh",
        "outputId": "3f0cf65c-068a-4656-83e7-8bbfd6c4a83a",
        "colab": {
          "base_uri": "https://localhost:8080/"
        }
      },
      "source": [
        "import pandas as pd\n",
        "df = pd.DataFrame({\n",
        "    'school_code': ['s001','s002','s003','s001','s002','s004'],\n",
        "    'class': ['V', 'V', 'VI', 'VI', 'V', 'VI'],\n",
        "    'name': ['Alberto Franco','Gino Mcneill','Ryan Parkes', 'Eesha Hinton', 'Gino Mcneill', 'David Parkes'],\n",
        "    'date_Of_Birth': ['15/05/2002','17/05/2002','16/02/1999','25/09/1998','11/05/2002','15/09/1997'],\n",
        "    'weight': [35, 32, 33, 30, 31, 32],\n",
        "    'address': ['street1', 'street2', 'street3', 'street1', 'street2', 'street4'],\n",
        "    't_id':['t1', 't2', 't3', 't4', 't5', 't6']})\n",
        "print(\"Default Index:\")\n",
        "print(df.head(10))\n",
        "print(\"\\nschool_code as new Index:\")\n",
        "df1 = df.set_index('school_code')\n",
        "print(df1)\n",
        "print(\"\\nt_id as new Index:\")\n",
        "df2 = df.set_index('t_id')\n",
        "print(df2)"
      ],
      "execution_count": 21,
      "outputs": [
        {
          "output_type": "stream",
          "text": [
            "Default Index:\n",
            "  school_code class            name date_Of_Birth  weight  address t_id\n",
            "0        s001     V  Alberto Franco    15/05/2002      35  street1   t1\n",
            "1        s002     V    Gino Mcneill    17/05/2002      32  street2   t2\n",
            "2        s003    VI     Ryan Parkes    16/02/1999      33  street3   t3\n",
            "3        s001    VI    Eesha Hinton    25/09/1998      30  street1   t4\n",
            "4        s002     V    Gino Mcneill    11/05/2002      31  street2   t5\n",
            "5        s004    VI    David Parkes    15/09/1997      32  street4   t6\n",
            "\n",
            "school_code as new Index:\n",
            "            class            name date_Of_Birth  weight  address t_id\n",
            "school_code                                                          \n",
            "s001            V  Alberto Franco    15/05/2002      35  street1   t1\n",
            "s002            V    Gino Mcneill    17/05/2002      32  street2   t2\n",
            "s003           VI     Ryan Parkes    16/02/1999      33  street3   t3\n",
            "s001           VI    Eesha Hinton    25/09/1998      30  street1   t4\n",
            "s002            V    Gino Mcneill    11/05/2002      31  street2   t5\n",
            "s004           VI    David Parkes    15/09/1997      32  street4   t6\n",
            "\n",
            "t_id as new Index:\n",
            "     school_code class            name date_Of_Birth  weight  address\n",
            "t_id                                                                 \n",
            "t1          s001     V  Alberto Franco    15/05/2002      35  street1\n",
            "t2          s002     V    Gino Mcneill    17/05/2002      32  street2\n",
            "t3          s003    VI     Ryan Parkes    16/02/1999      33  street3\n",
            "t4          s001    VI    Eesha Hinton    25/09/1998      30  street1\n",
            "t5          s002     V    Gino Mcneill    11/05/2002      31  street2\n",
            "t6          s004    VI    David Parkes    15/09/1997      32  street4\n"
          ],
          "name": "stdout"
        }
      ]
    },
    {
      "cell_type": "markdown",
      "metadata": {
        "id": "vjpcEq0vlvLc"
      },
      "source": [
        "6. Write a Pandas program to join the two given dataframes along rows and assign all data. <br>\n",
        "\n",
        "![bhj.PNG](data:image/png;base64,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)\n",
        "\n",
        "SOL: https://www.w3resource.com/python-exercises/pandas/joining-and-merging/pandas-joining-and-merging-dataframe-exercise-1.php"
      ]
    },
    {
      "cell_type": "code",
      "metadata": {
        "id": "uhqslvOxmFT8",
        "outputId": "31d0b1bc-f428-49a0-a088-3331ede2bfb1",
        "colab": {
          "base_uri": "https://localhost:8080/"
        }
      },
      "source": [
        "import pandas as pd\n",
        "\n",
        "student_data1 = pd.DataFrame({\n",
        "        'student_id': ['S1', 'S2', 'S3', 'S4', 'S5'],\n",
        "         'name': ['Danniella Fenton', 'Ryder Storey', 'Bryce Jensen', 'Ed Bernal', 'Kwame Morin'], \n",
        "        'marks': [200, 210, 190, 222, 199]})\n",
        "\n",
        "student_data2 = pd.DataFrame({\n",
        "        'student_id': ['S4', 'S5', 'S6', 'S7', 'S8'],\n",
        "        'name': ['Scarlette Fisher', 'Carla Williamson', 'Dante Morse', 'Kaiser William', 'Madeeha Preston'], \n",
        "        'marks': [201, 200, 198, 219, 201]})\n",
        "\n",
        "print(\"student_data1:\")\n",
        "print(student_data1)\n",
        "print(\"-------------------------------------\")\n",
        "print(\"student_data2:\")\n",
        "print(student_data2)\n",
        "print(\"\\nJoin the said two dataframes along rows:\")\n",
        "result_data = pd.concat([student_data1, student_data2])\n",
        "print(result_data)"
      ],
      "execution_count": 20,
      "outputs": [
        {
          "output_type": "stream",
          "text": [
            "student_data1:\n",
            "  student_id              name  marks\n",
            "0         S1  Danniella Fenton    200\n",
            "1         S2      Ryder Storey    210\n",
            "2         S3      Bryce Jensen    190\n",
            "3         S4         Ed Bernal    222\n",
            "4         S5       Kwame Morin    199\n",
            "-------------------------------------\n",
            "student_data2:\n",
            "  student_id              name  marks\n",
            "0         S4  Scarlette Fisher    201\n",
            "1         S5  Carla Williamson    200\n",
            "2         S6       Dante Morse    198\n",
            "3         S7    Kaiser William    219\n",
            "4         S8   Madeeha Preston    201\n",
            "\n",
            "Join the said two dataframes along rows:\n",
            "  student_id              name  marks\n",
            "0         S1  Danniella Fenton    200\n",
            "1         S2      Ryder Storey    210\n",
            "2         S3      Bryce Jensen    190\n",
            "3         S4         Ed Bernal    222\n",
            "4         S5       Kwame Morin    199\n",
            "0         S4  Scarlette Fisher    201\n",
            "1         S5  Carla Williamson    200\n",
            "2         S6       Dante Morse    198\n",
            "3         S7    Kaiser William    219\n",
            "4         S8   Madeeha Preston    201\n"
          ],
          "name": "stdout"
        }
      ]
    },
    {
      "cell_type": "markdown",
      "metadata": {
        "id": "GCXWim0EmJUU"
      },
      "source": [
        "7. Write a Pandas program to merge two given dataframes with different columns.<br>\n",
        "\n",
        "![df.PNG](data:image/png;base64,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)\n",
        "\n",
        "\n",
        "SOL: https://www.w3resource.com/python-exercises/pandas/joining-and-merging/pandas-joining-and-merging-dataframe-exercise-14.php"
      ]
    },
    {
      "cell_type": "code",
      "metadata": {
        "id": "PKu-GdX6mdiD",
        "outputId": "7640a317-82fe-4b4e-fe08-aa90387cec6c",
        "colab": {
          "base_uri": "https://localhost:8080/"
        }
      },
      "source": [
        "import pandas as pd\n",
        "data1 = pd.DataFrame({'key1': ['K0', 'K0', 'K1', 'K2'],\n",
        "                     'key2': ['K0', 'K1', 'K0', 'K1'],\n",
        "                     'P': ['P0', 'P1', 'P2', 'P3'],\n",
        "                     'Q': ['Q0', 'Q1', 'Q2', 'Q3']}) \n",
        "data2 = pd.DataFrame({'key1': ['K0', 'K1', 'K1', 'K2'],\n",
        "                      'key2': ['K0', 'K0', 'K0', 'K0'],\n",
        "                      'R': ['R0', 'R1', 'R2', 'R3'],\n",
        "                      'S': ['S0', 'S1', 'S2', 'S3']})\n",
        "print(\"data1:\")\n",
        "print(data1)\n",
        "print(\"--------------------\")\n",
        "print(\"data2:\")\n",
        "print(data2)\n",
        "print(\"\\nMerge two dataframes with different columns:\")\n",
        "result = pd.concat([data1,data2], axis=0, ignore_index=True)\n",
        "print(result)"
      ],
      "execution_count": 22,
      "outputs": [
        {
          "output_type": "stream",
          "text": [
            "data1:\n",
            "  key1 key2   P   Q\n",
            "0   K0   K0  P0  Q0\n",
            "1   K0   K1  P1  Q1\n",
            "2   K1   K0  P2  Q2\n",
            "3   K2   K1  P3  Q3\n",
            "--------------------\n",
            "data2:\n",
            "  key1 key2   R   S\n",
            "0   K0   K0  R0  S0\n",
            "1   K1   K0  R1  S1\n",
            "2   K1   K0  R2  S2\n",
            "3   K2   K0  R3  S3\n",
            "\n",
            "Merge two dataframes with different columns:\n",
            "  key1 key2    P    Q    R    S\n",
            "0   K0   K0   P0   Q0  NaN  NaN\n",
            "1   K0   K1   P1   Q1  NaN  NaN\n",
            "2   K1   K0   P2   Q2  NaN  NaN\n",
            "3   K2   K1   P3   Q3  NaN  NaN\n",
            "4   K0   K0  NaN  NaN   R0   S0\n",
            "5   K1   K0  NaN  NaN   R1   S1\n",
            "6   K1   K0  NaN  NaN   R2   S2\n",
            "7   K2   K0  NaN  NaN   R3   S3\n"
          ],
          "name": "stdout"
        }
      ]
    },
    {
      "cell_type": "markdown",
      "metadata": {
        "id": "c52QkL28mygz"
      },
      "source": [
        "8. Write a Pandas program to detect missing values of a given DataFrame. Display True or False. <br>\n",
        "\n",
        "![1.PNG](data:image/png;base64,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)\n",
        "\n",
        "\n",
        "SOL: https://www.w3resource.com/python-exercises/pandas/missing-values/python-pandas-missing-values-exercise-1.php"
      ]
    },
    {
      "cell_type": "code",
      "metadata": {
        "id": "zWLsjB6Tm80Q",
        "outputId": "7cb18bf9-09b4-4f31-ffad-6436b6b2333e",
        "colab": {
          "base_uri": "https://localhost:8080/"
        }
      },
      "source": [
        "import pandas as pd\n",
        "import numpy as np\n",
        "pd.set_option('display.max_rows', None)\n",
        "#pd.set_option('display.max_columns', None)\n",
        "df = pd.DataFrame({\n",
        "'ord_no':[70001,np.nan,70002,70004,np.nan,70005,np.nan,70010,70003,70012,np.nan,70013],\n",
        "'purch_amt':[150.5,270.65,65.26,110.5,948.5,2400.6,5760,1983.43,2480.4,250.45, 75.29,3045.6],\n",
        "'ord_date': ['2012-10-05','2012-09-10',np.nan,'2012-08-17','2012-09-10','2012-07-27','2012-09-10','2012-10-10','2012-10-10','2012-06-27','2012-08-17','2012-04-25'],\n",
        "'customer_id':[3002,3001,3001,3003,3002,3001,3001,3004,3003,3002,3001,3001],\n",
        "'salesman_id':[5002,5003,5001,np.nan,5002,5001,5001,np.nan,5003,5002,5003,np.nan]})\n",
        "print(\"Original Orders DataFrame:\")\n",
        "print(df)\n",
        "print(\"\\nMissing values of the said dataframe:\")\n",
        "print(df.isna())"
      ],
      "execution_count": 23,
      "outputs": [
        {
          "output_type": "stream",
          "text": [
            "Original Orders DataFrame:\n",
            "     ord_no  purch_amt    ord_date  customer_id  salesman_id\n",
            "0   70001.0     150.50  2012-10-05         3002       5002.0\n",
            "1       NaN     270.65  2012-09-10         3001       5003.0\n",
            "2   70002.0      65.26         NaN         3001       5001.0\n",
            "3   70004.0     110.50  2012-08-17         3003          NaN\n",
            "4       NaN     948.50  2012-09-10         3002       5002.0\n",
            "5   70005.0    2400.60  2012-07-27         3001       5001.0\n",
            "6       NaN    5760.00  2012-09-10         3001       5001.0\n",
            "7   70010.0    1983.43  2012-10-10         3004          NaN\n",
            "8   70003.0    2480.40  2012-10-10         3003       5003.0\n",
            "9   70012.0     250.45  2012-06-27         3002       5002.0\n",
            "10      NaN      75.29  2012-08-17         3001       5003.0\n",
            "11  70013.0    3045.60  2012-04-25         3001          NaN\n",
            "\n",
            "Missing values of the said dataframe:\n",
            "    ord_no  purch_amt  ord_date  customer_id  salesman_id\n",
            "0    False      False     False        False        False\n",
            "1     True      False     False        False        False\n",
            "2    False      False      True        False        False\n",
            "3    False      False     False        False         True\n",
            "4     True      False     False        False        False\n",
            "5    False      False     False        False        False\n",
            "6     True      False     False        False        False\n",
            "7    False      False     False        False         True\n",
            "8    False      False     False        False        False\n",
            "9    False      False     False        False        False\n",
            "10    True      False     False        False        False\n",
            "11   False      False     False        False         True\n"
          ],
          "name": "stdout"
        }
      ]
    },
    {
      "cell_type": "markdown",
      "metadata": {
        "id": "bm8nmLNcm9q9"
      },
      "source": [
        "9. Write a Pandas program to count the number of missing values in each column of a given DataFrame. <br>\n",
        "\n",
        "![3.PNG](data:image/png;base64,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)\n",
        "\n",
        "SOL: https://www.w3resource.com/python-exercises/pandas/missing-values/python-pandas-missing-values-exercise-3.php"
      ]
    },
    {
      "cell_type": "code",
      "metadata": {
        "id": "mosgRctHnHal",
        "outputId": "5afcd10d-a50c-4a81-a6c7-543f9af211d4",
        "colab": {
          "base_uri": "https://localhost:8080/"
        }
      },
      "source": [
        "import pandas as pd\n",
        "import numpy as np\n",
        "pd.set_option('display.max_rows', None)\n",
        "#pd.set_option('display.max_columns', None)\n",
        "df = pd.DataFrame({\n",
        "'ord_no':[70001,np.nan,70002,70004,np.nan,70005,np.nan,70010,70003,70012,np.nan,70013],\n",
        "'purch_amt':[150.5,270.65,65.26,110.5,948.5,2400.6,5760,1983.43,2480.4,250.45, 75.29,3045.6],\n",
        "'ord_date': ['2012-10-05','2012-09-10',np.nan,'2012-08-17','2012-09-10','2012-07-27','2012-09-10','2012-10-10','2012-10-10','2012-06-27','2012-08-17','2012-04-25'],\n",
        "'customer_id':[3002,3001,3001,3003,3002,3001,3001,3004,3003,3002,3001,3001],\n",
        "'salesman_id':[5002,5003,5001,np.nan,5002,5001,5001,np.nan,5003,5002,5003,np.nan]})\n",
        "print(\"Original Orders DataFrame:\")\n",
        "print(df)\n",
        "print(\"\\nNumber of missing values of the said dataframe:\")\n",
        "print(df.isna().sum())"
      ],
      "execution_count": 24,
      "outputs": [
        {
          "output_type": "stream",
          "text": [
            "Original Orders DataFrame:\n",
            "     ord_no  purch_amt    ord_date  customer_id  salesman_id\n",
            "0   70001.0     150.50  2012-10-05         3002       5002.0\n",
            "1       NaN     270.65  2012-09-10         3001       5003.0\n",
            "2   70002.0      65.26         NaN         3001       5001.0\n",
            "3   70004.0     110.50  2012-08-17         3003          NaN\n",
            "4       NaN     948.50  2012-09-10         3002       5002.0\n",
            "5   70005.0    2400.60  2012-07-27         3001       5001.0\n",
            "6       NaN    5760.00  2012-09-10         3001       5001.0\n",
            "7   70010.0    1983.43  2012-10-10         3004          NaN\n",
            "8   70003.0    2480.40  2012-10-10         3003       5003.0\n",
            "9   70012.0     250.45  2012-06-27         3002       5002.0\n",
            "10      NaN      75.29  2012-08-17         3001       5003.0\n",
            "11  70013.0    3045.60  2012-04-25         3001          NaN\n",
            "\n",
            "Number of missing values of the said dataframe:\n",
            "ord_no         4\n",
            "purch_amt      0\n",
            "ord_date       1\n",
            "customer_id    0\n",
            "salesman_id    3\n",
            "dtype: int64\n"
          ],
          "name": "stdout"
        }
      ]
    },
    {
      "cell_type": "markdown",
      "metadata": {
        "id": "uwYg0m3YnLQk"
      },
      "source": [
        "10. Write a Pandas program to get the current date, oldest date and number of days between Current date and oldest date of Ufo dataset. <br>\n",
        "\n",
        "SOL: https://www.w3resource.com/python-exercises/pandas/datetime/pandas-datetime-exercise-3.php"
      ]
    },
    {
      "cell_type": "code",
      "metadata": {
        "id": "uC6jf6Fwp3Ir"
      },
      "source": [
        "import pandas as pd\n",
        "df = pd.read_csv(r'ufo.csv')\n",
        "df['Date_time'] = df['Date_time'].astype('datetime64[ns]')\n",
        "print(\"Original Dataframe:\")\n",
        "print(df.head())\n",
        "print(\"\\nCurrent date of Ufo dataset:\")\n",
        "print(df.Date_time.max())\n",
        "print(\"\\nOldest date of Ufo dataset:\")\n",
        "print(df.Date_time.min())\n",
        "print(\"\\nNumber of days between Current date and oldest date of Ufo dataset:\")\n",
        "print((df.Date_time.max() - df.Date_time.min()).days)"
      ],
      "execution_count": null,
      "outputs": []
    }
  ]
}