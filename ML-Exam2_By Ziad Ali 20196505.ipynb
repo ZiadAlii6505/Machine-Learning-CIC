{
  "nbformat": 4,
  "nbformat_minor": 0,
  "metadata": {
    "colab": {
      "name": "Exam2.ipynb",
      "provenance": []
    },
    "kernelspec": {
      "name": "python3",
      "display_name": "Python 3"
    },
    "language_info": {
      "name": "python"
    }
  },
  "cells": [
    {
      "cell_type": "markdown",
      "metadata": {
        "id": "5wXGR30b9re6"
      },
      "source": [
        "# Question 1\n",
        "Write a program that asks the user to enter the amount that he or she has budgeted for a month. A loop should then prompt the user to enter each of his or her expenses for the month and keep a running total. When the loop finishes, the program should display the amount that the user is over or under budget."
      ]
    },
    {
      "cell_type": "code",
      "metadata": {
        "id": "VqHLKlqN9orp",
        "outputId": "38f27a53-3af4-4bf7-daa7-15aee788b90b",
        "colab": {
          "base_uri": "https://localhost:8080/"
        }
      },
      "source": [
        "expense = 0.0\n",
        "budget = 0.0\n",
        "difference = 0.0\n",
        "expenseTotal = 0.0\n",
        "total_expense = 0\n",
        "keep_going = 'y'\n",
        "\n",
        "budget = float(input(\"Enter budget for the month?\"))\n",
        "print(\"------Expenses:------ \")\n",
        "\n",
        "while keep_going == 'y':\n",
        "    expense = float(input(\"Enter amount of Expense : $ \"))\n",
        "    total_expense = total_expense + expense\n",
        "    keep_going = input(\"Is there any other expenses? (Enter y for yes - Press Enter to end)\")\n",
        "\n",
        "if total_expense < budget:\n",
        "    difference = budget - total_expense\n",
        "    print(\"You are \", difference, \"$ under budget.\")\n",
        "\n",
        "elif total_expense > budget:\n",
        "    difference = total_expense - budget\n",
        "    print(\"You are \", difference, \"$ over budget.\")\n",
        "\n",
        "else:\n",
        "    print(\"Just right on budget.\")"
      ],
      "execution_count": 6,
      "outputs": [
        {
          "output_type": "stream",
          "text": [
            "Enter budget for the month?2000\n",
            "------Expenses:------ \n",
            "Enter amount of Expense : $ 2000\n",
            "Is there any other expenses? (Enter y for yes - Press Enter to end)\n",
            "Just right on budget.\n",
            "Enter budget for the month?3000\n",
            "------Expenses:------ \n",
            "Enter amount of Expense : $ 30000\n",
            "Is there any other expenses? (Enter y for yes - Press Enter to end)\n",
            "You are  27000.0 $ over budget.\n"
          ],
          "name": "stdout"
        }
      ]
    },
    {
      "cell_type": "markdown",
      "metadata": {
        "id": "kGBuj9Rk-veL"
      },
      "source": [
        "# Question 2 \n",
        "Write a function named max that accepts two integer values as arguments and returns the\n",
        "value that is the greater of the two. For example, if 7 and 12 are passed as arguments to\n",
        "the function, the function should return 12. Use the function in a program that prompts the\n",
        "user to enter two integer values. The program should display the value that is the greater\n",
        "of the two."
      ]
    },
    {
      "cell_type": "code",
      "metadata": {
        "id": "3psMKiEQ-m6k",
        "outputId": "c1c06229-5803-4c6f-e3d1-fbb37a396a2d",
        "colab": {
          "base_uri": "https://localhost:8080/"
        }
      },
      "source": [
        "def max(firstNumber, secondNumber ):\n",
        "    if firstNumber > secondNumber:\n",
        "      return firstNumber\n",
        "\n",
        "    else:\n",
        "      return secondNumber\n",
        "\n",
        "\n",
        "\n",
        "firstNumber=int(input(\"Enter First number : \"))\n",
        "secondNumber=int(input(\"Enter Second number : \"))\n",
        "\n",
        "maxnum=max(firstNumber,secondNumber)\n",
        "\n",
        "print(\"The Max Number is : \" + str(maxnum) )"
      ],
      "execution_count": 12,
      "outputs": [
        {
          "output_type": "stream",
          "text": [
            "Enter First number : 7\n",
            "Enter Second number : 12\n",
            "The maximum value is : 12\n"
          ],
          "name": "stdout"
        }
      ]
    },
    {
      "cell_type": "markdown",
      "metadata": {
        "id": "2QJ4_LYe_QyM"
      },
      "source": [
        "# Question 3\n",
        "Write a program that asks the user for the name of a file. The program should display the\n",
        "contents of the file with each line preceded with a line number followed by a colon. The\n",
        "line numbering should start at 1."
      ]
    },
    {
      "cell_type": "code",
      "metadata": {
        "id": "z_9PEjmp_P7c",
        "outputId": "2453f85f-2e3f-4bb2-ce67-9b89ac31adef",
        "colab": {
          "base_uri": "https://localhost:8080/"
        }
      },
      "source": [
        "file_name = input(\"Enter the name of the file : \")\n",
        "\n",
        "try:\n",
        "    with open(file_name, 'r') as r, open(\"ln_\"+file_name, 'w') as w:\n",
        "        count = 1\n",
        "\n",
        "        for line in r:\n",
        "            w.write(str(count) + ': ' + line)\n",
        "            count += 1\n",
        "except:\n",
        "    print(\"Cannot Find or Read the file ( \" + file_name + \" )\")"
      ],
      "execution_count": 18,
      "outputs": [
        {
          "output_type": "stream",
          "text": [
            "Enter the name of the file : texts\n",
            "Cannot Find or Read the file ( texts )\n"
          ],
          "name": "stdout"
        }
      ]
    },
    {
      "cell_type": "markdown",
      "metadata": {
        "id": "mWPrmdWDAHJK"
      },
      "source": [
        "# Question 4\n",
        "Write a program that reads a string from the user containing a date in the form mm/dd/yyyy. It should print the date in the form March 12, 2014."
      ]
    },
    {
      "cell_type": "code",
      "metadata": {
        "id": "7o6o25d6AMDj",
        "outputId": "c041154f-71f1-40f1-c9ef-186c0089da2a",
        "colab": {
          "base_uri": "https://localhost:8080/"
        }
      },
      "source": [
        "mydate = input('Enter date in the following format - mm,dd,yyyy - : ')\n",
        "datelist = mydate.split(',')\n",
        "month = int(datelist[0])\n",
        "day = int(datelist[1])\n",
        "year = int(datelist[2])\n",
        "\n",
        "if month == 1:\n",
        "    month = 'January'\n",
        "\n",
        "elif month == 2:\n",
        "    month = 'February'\n",
        "\n",
        "elif month == 3:\n",
        "    month = 'March'\n",
        "\n",
        "elif month == 4:\n",
        "    month = 'April'\n",
        "\n",
        "elif month == 5:\n",
        "    month = 'May'\n",
        "\n",
        "elif month == 6:\n",
        "    month = 'June'\n",
        "\n",
        "elif month == 7:\n",
        "    month = 'July'\n",
        "\n",
        "elif month == 8:\n",
        "    month = 'August'\n",
        "\n",
        "elif month == 9:\n",
        "    month = 'September'\n",
        "\n",
        "elif month == 2:\n",
        "    month = 'October'\n",
        "\n",
        "elif month == 2:\n",
        "    month = 'November'\n",
        "\n",
        "elif month == 12:\n",
        "    month = 'December'\n",
        "    \n",
        "finaldate = month + ' ' + str(day) + ',' + str(year) \n",
        "\n",
        "print(finaldate)"
      ],
      "execution_count": 21,
      "outputs": [
        {
          "output_type": "stream",
          "text": [
            "Enter date in the following format - mm,dd,yyyy - : 03,12,2014\n",
            "March 12,2014\n"
          ],
          "name": "stdout"
        }
      ]
    },
    {
      "cell_type": "markdown",
      "metadata": {
        "id": "jSxraWwFqJ6b"
      },
      "source": [
        "# Question 5\n",
        "Write a class named Person with data attributes for a person’s name, address, and telephone number. Next, write a class named Customer that is a subclass of the Person class.\n",
        "The Customer class should have a data attribute for a customer number and a Boolean\n",
        "data attribute indicating whether the customer wishes to be on a mailing list. Demonstrate\n",
        "an instance of the Customer class in a simple program."
      ]
    },
    {
      "cell_type": "code",
      "metadata": {
        "id": "s5A4itpdA2K0",
        "outputId": "34a891b6-9e3e-45ea-b903-76bd4952c7d1",
        "colab": {
          "base_uri": "https://localhost:8080/"
        }
      },
      "source": [
        "class Person: \n",
        "  def __init__(self, name, address, number):\n",
        "    self.name = name\n",
        "    self.address = address\n",
        "    self.number = number\n",
        "  def Name(self):\n",
        "    return self.name \n",
        "\n",
        "class Customer(Person): \n",
        "  def __init__(self, name, address, number,custNumber,needMailList): \n",
        "    Person.__init__(self,name, address, number)\n",
        "    self.custNumber = custNumber \n",
        "    self.needMailList = needMailList\n",
        "\n",
        "x = Person(\"Ahmed\", \"Egypt\",\"123456789\") \n",
        "y = Customer(\"Joe\", \"France\", \"0234567890\",\"11\",False)\n",
        "\n",
        "print(\"------------Info of X-------------\") \n",
        "print(x.name) \n",
        "print(x.address) \n",
        "print(x.number)\n",
        "print(\"-------------------------\") \n",
        "print(\"------------Info of y-------------\") \n",
        "print(y.name) \n",
        "print(y.address) \n",
        "print(y.number)\n",
        "print(y.custNumber)"
      ],
      "execution_count": 51,
      "outputs": [
        {
          "output_type": "stream",
          "text": [
            "------------Info of X-------------\n",
            "Ahmed\n",
            "Egypt\n",
            "123456789\n",
            "-------------------------\n",
            "------------Info of y-------------\n",
            "Joe\n",
            "France\n",
            "0234567890\n",
            "11\n"
          ],
          "name": "stdout"
        }
      ]
    },
    {
      "cell_type": "markdown",
      "metadata": {
        "id": "Psab1ArBA2Yp"
      },
      "source": [
        "Once You finish Fill the Form: https://docs.google.com/forms/d/e/1FAIpQLSeu1EmFSSURi7TYZ7LvNQREvDEeGue6enxF2j_wy2mNU-q2xw/viewform?usp=sf_link"
      ]
    }
  ]
}